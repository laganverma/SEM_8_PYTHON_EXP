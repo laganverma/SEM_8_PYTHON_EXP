{
 "cells": [
  {
   "cell_type": "code",
   "execution_count": null,
   "id": "initial_id",
   "metadata": {
    "collapsed": true
   },
   "outputs": [],
   "source": [
    "import random\n",
    "import string\n",
    "\n",
    "def generate_random_word(length, start_letter=None):\n",
    "    if start_letter:\n",
    "        start_letter = start_letter.lower()\n",
    "    else:\n",
    "        start_letter = random.choice(string.ascii_lowercase)\n",
    "\n",
    "    if length < 1:\n",
    "        raise ValueError(\"Length should be at least 1\")\n",
    "\n",
    "    word = start_letter\n",
    "\n",
    "    while len(word) < length:\n",
    "        next_char = random.choice(string.ascii_lowercase)\n",
    "        word += next_char\n",
    "\n",
    "    return word\n",
    "\n",
    "# Example usage:\n",
    "try:\n",
    "    word_length = int(input(\"Enter the desired word length: \"))\n",
    "    start_char = input(\"Enter the desired starting letter (or press Enter for a random starting letter): \")\n",
    "\n",
    "    random_word = generate_random_word(word_length, start_char)\n",
    "    print(f\"Random word: {random_word}\")\n",
    "\n",
    "except ValueError as e:\n",
    "    print(f\"Error: {e}\")"
   ]
  }
 ],
 "metadata": {
  "kernelspec": {
   "display_name": "Python 3",
   "language": "python",
   "name": "python3"
  },
  "language_info": {
   "codemirror_mode": {
    "name": "ipython",
    "version": 2
   },
   "file_extension": ".py",
   "mimetype": "text/x-python",
   "name": "python",
   "nbconvert_exporter": "python",
   "pygments_lexer": "ipython2",
   "version": "2.7.6"
  }
 },
 "nbformat": 4,
 "nbformat_minor": 5
}
