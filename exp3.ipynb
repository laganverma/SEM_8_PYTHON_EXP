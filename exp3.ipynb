{
 "cells": [
  {
   "cell_type": "code",
   "execution_count": null,
   "id": "initial_id",
   "metadata": {
    "collapsed": true,
    "is_executing": true
   },
   "outputs": [],
   "source": [
    "import nltk\n",
    "from nltk.tokenize import word_tokenize\n",
    "from nltk.corpus import stopwords\n",
    "import string\n",
    "\t\n",
    "nltk.download('punkt')\n",
    "nltk.download('stopwords')\n",
    "\n",
    "def analyze_morphology(text):\n",
    "  # Tokenize the text into words\n",
    "\t    words = word_tokenize(text)\n",
    "\t\n",
    "\t    # Remove stopwords and punctuation\n",
    "\t    stop_words = set(stopwords.words('english'))\n",
    "\t    words = [word.lower() for word in words if word.isalnum() and word.lower() not in stop_words]\n",
    "\t\t    # Initialize lists to store prefixes, suffixes, and roots\n",
    "\t    prefixes = []\n",
    "\t    suffixes = []\n",
    "\t    roots = []\n",
    "\t\n",
    "\t    for word in words:\n",
    "\t        # Extract prefixes, suffixes, and roots\n",
    "\t        for i in range(1, len(word)):\n",
    "\t            prefixes.append(word[:i])\n",
    "\t            suffixes.append(word[-i:])\n",
    "\t        roots.append(word)\n",
    "\t\n",
    "\t    return {\n",
    "\t        'prefixes': set(prefixes),\n",
    "\t        'suffixes': set(suffixes),\n",
    "\t        'roots': set(roots)\n",
    "\t    }\n",
    "\n",
    "\n",
    "\t\n",
    "\t# Example text\n",
    "\ttext = \"\"\"Morphology is the study of the internal structure of words. It involves analyzing prefixes, suffixes, and roots to understand how words are formed. Understanding morphology is crucial for language processing and learning. It eases ones ability in comprehending complex word structures.\"\"\"\t\n",
    "\n",
    "\t# Print the results\n",
    "\tprint(\"Prefixes:\", morphology_analysis['prefixes'])\n",
    "\tprint(\"\\nSuffixes:\", morphology_analysis['suffixes'])\n",
    "\tprint(\"\\nRoots:\", morphology_analysis['roots'])\n",
    "\t# Analyze the morphology of the text\n",
    "\n",
    " morphology_analysis = analyze_morphology(text)\n",
    "\n",
    "\t# Print the results\n",
    "\tprint(\"Prefixes:\", morphology_analysis['prefixes'])\n",
    "\tprint(\"\\nSuffixes:\", morphology_analysis['suffixes'])\n",
    "\tprint(\"\\nRoots:\", morphology_analysis['roots'])"
   ]
  },
  {
   "cell_type": "code",
   "outputs": [],
   "source": [],
   "metadata": {
    "collapsed": false
   },
   "id": "3269a621e2344e49"
  }
 ],
 "metadata": {
  "kernelspec": {
   "display_name": "Python 3",
   "language": "python",
   "name": "python3"
  },
  "language_info": {
   "codemirror_mode": {
    "name": "ipython",
    "version": 2
   },
   "file_extension": ".py",
   "mimetype": "text/x-python",
   "name": "python",
   "nbconvert_exporter": "python",
   "pygments_lexer": "ipython2",
   "version": "2.7.6"
  }
 },
 "nbformat": 4,
 "nbformat_minor": 5
}
